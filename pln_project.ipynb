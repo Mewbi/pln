{
  "nbformat": 4,
  "nbformat_minor": 0,
  "metadata": {
    "colab": {
      "provenance": []
    },
    "kernelspec": {
      "name": "python3",
      "display_name": "Python 3"
    }
  },
  "cells": [
    {
      "cell_type": "markdown",
      "metadata": {
        "id": "Y6QILOdpOjwv"
      },
      "source": [
        "# **Processamento de Linguagem Natural [2024-Q2]**\n",
        "Prof. Alexandre Donizeti Alves"
      ]
    },
    {
      "cell_type": "markdown",
      "metadata": {
        "id": "8m67OOx9MX_3"
      },
      "source": [
        "### **PROJETO PRÁTICO** [LangChain + Grandes Modelos de Linguagem + API]\n"
      ]
    },
    {
      "cell_type": "markdown",
      "metadata": {
        "id": "5Gk0nHKabBT-"
      },
      "source": [
        "O **PROJETO PRÁTICO** deve ser feitO utilizando o **Google Colab** com uma conta sua vinculada ao Gmail. O link do seu notebook, armazenado no Google Drive, o link de um repositório no GitHub e o link de um vídeo no YouTube do projeto em execução detalhando os principais resultados da atividade, devem ser enviados usando o seguinte formulário:\n",
        "\n",
        "> Omitido, pois projeto possui repositório no GitHub\n",
        "\n",
        "\n",
        "**IMPORTANTE**: A submissão deve ser feita até o dia **08/09 (domingo)** APENAS POR UM INTEGRANTE DA EQUIPE, até às 23h59. Por favor, lembre-se de dar permissão de ACESSO IRRESTRITO para o professor da disciplina de PLN."
      ]
    },
    {
      "cell_type": "markdown",
      "metadata": {
        "id": "D7hJlilKM485"
      },
      "source": [
        "### **EQUIPE**\n",
        "\n",
        "---"
      ]
    },
    {
      "cell_type": "markdown",
      "source": [
        "**Integrante 01:**\n",
        "\n",
        "Beatriz Sofientini Ribeiro - 11202020433\n",
        "\n",
        "**Integrante 02:**\n",
        "\n",
        "Felipe Fernandes Gomes da Silva Costa - 112020202223\n",
        "\n",
        "**Integrante 03:**\n",
        "\n",
        "Bruno Francisco Rodrigues Mafra - 11201811147"
      ],
      "metadata": {
        "id": "tnIArN0QY-Ek"
      }
    },
    {
      "cell_type": "markdown",
      "source": [
        "### **GRANDE MODELO DE LINGUAGEM (*Large Language Model - LLM*)**\n",
        "\n",
        "---"
      ],
      "metadata": {
        "id": "VbYD2mw8y4CN"
      }
    },
    {
      "cell_type": "markdown",
      "source": [
        "Cada equipe deve selecionar um Grande Modelo de Linguagem (*Large Language Model - LMM*). Cada modelo pode ser escolhido por até 5 equipes.\n",
        "\n"
      ],
      "metadata": {
        "id": "_UlblxFxzDV-"
      }
    },
    {
      "cell_type": "markdown",
      "source": [
        "Por favor, informe os dados do LLM selecionada:\n",
        "\n",
        ">\n",
        "\n",
        "\n",
        "**LLM**: GPT4o\n",
        "\n",
        ">\n",
        "\n",
        "**Link para a documentação oficial**: https://platform.openai.com/docs/api-reference\n",
        "\n"
      ],
      "metadata": {
        "id": "a6AkE6iW0c3o"
      }
    },
    {
      "cell_type": "markdown",
      "source": [
        "### **API**\n",
        "---"
      ],
      "metadata": {
        "id": "6yExhaebs-nD"
      }
    },
    {
      "cell_type": "markdown",
      "source": [
        "Por favor, informe os dados da API selecionada:\n",
        "\n",
        "**API**: API de Receitas\n",
        "\n",
        "**Site oficial**: https://www.themealdb.com/\n",
        "\n",
        "**Link para a documentação oficial**: https://www.themealdb.com/api.php\n",
        "\n",
        "\n",
        "\n",
        "\n"
      ],
      "metadata": {
        "id": "DjJM_qhEZRy6"
      }
    },
    {
      "cell_type": "markdown",
      "metadata": {
        "id": "EtjgWQRzNphL"
      },
      "source": [
        "### **DESCRIÇÃO**\n",
        "---"
      ]
    },
    {
      "cell_type": "markdown",
      "source": [
        "Implementar um `notebook` no `Google Colab` que faça uso do framework **`LangChain`** (obrigatório) e de um **LLM** aplicando, no mínimo, DUAS técnicas de PLN. As técnicas podem ser aplicada em qualquer córpus obtido a partir de uma **API**.\n",
        "\n",
        "O **LLM** e a **API** selecionados devem ser informados na seguinte planilha:\n",
        "\n",
        "> Omitido, pois projeto possui repositório no GitHub\n",
        ">\n",
        "As seguintes técnicas de PLN podem ser usadas:\n",
        "\n",
        "*   Correção Gramatical\n",
        "*   Classificação de Textos\n",
        "*   Análise de Sentimentos\n",
        "*   Detecção de Emoções\n",
        "*   Extração de Palavras-chave\n",
        "*   Tradução de Textos\n",
        "*   Sumarização de Textos\n",
        "*   Similaridade de Textos\n",
        "*   Reconhecimento de Entidades Nomeadas\n",
        "*   Sistemas de Perguntas e Respostas\n",
        ">\n",
        "\n",
        "**IMPORTANTE:** É obrigatório usar o e-mail da UFABC.\n"
      ],
      "metadata": {
        "id": "fXTwkiiGs2BV"
      }
    },
    {
      "cell_type": "markdown",
      "source": [
        "### **CRITÉRIOS DE AVALIAÇÃO**\n",
        "---\n"
      ],
      "metadata": {
        "id": "gWsBYQNtxmum"
      }
    },
    {
      "cell_type": "markdown",
      "source": [
        "Serão considerados como critérios de avaliação os seguintes pontos:\n",
        "\n",
        "* Uso do framework **`LangChain`**.\n",
        "\n",
        "* Escolha e uso de um **LLM**.\n",
        "\n",
        "* Escolha e uso de uma **API**.\n",
        "\n",
        "* Vídeo no YouTube (5 a 10 minutos).\n",
        "\n",
        "* Criatividade no uso do framework **`LangChain`** em conjunto com o **LLM** e a **API**.\n",
        "\n",
        "\n"
      ],
      "metadata": {
        "id": "5iHdx4BXYruQ"
      }
    },
    {
      "cell_type": "markdown",
      "source": [
        "**IMPORTANTE**: todo o código do notebook deve ser executado. Código sem execução não será considerado."
      ],
      "metadata": {
        "id": "q7-AcmMZHOI_"
      }
    },
    {
      "cell_type": "markdown",
      "source": [
        "### **IMPLEMENTAÇÃO**\n",
        "---"
      ],
      "metadata": {
        "id": "nw09lujGvfjc"
      }
    },
    {
      "cell_type": "markdown",
      "source": [
        "### Projeto\n",
        "\n",
        "O objetivo do projeto é criar um sistema que busca uma receita aleatória na API [The Meal DB](https://www.themealdb.com/), que retorna uma receita descrita em inglês.\n",
        "\n",
        "Em sequência usando o modelo do GPT-4o implementado com LangChain, deve realizar a tradução dessa receita para português e gerar as seguintes imagens:  uma imagem capa da receita; os ingredientes que são usados; uma imagem do processo de execução da receita. Além disso deve ser gerado informações nutricionais da receita.\n",
        "\n",
        "Por fim, o texto traduzido e as imagens geradas são publicadas em um [canal de Telegram](https://t.me/+hMmCAxXSZigyYzdh) destinado a compartilhar receitas.\n",
        "\n",
        "### GitHub\n",
        "\n",
        "O presente código colab pode ser encontrado no repositório: https://github.com/Mewbi/pln"
      ],
      "metadata": {
        "id": "YXMKlCvLJvTl"
      }
    },
    {
      "cell_type": "markdown",
      "source": [
        "### Dependências\n",
        "\n",
        "A primeira etapa é baixar todas as dependências que serão utilizadas no projeto"
      ],
      "metadata": {
        "id": "KXsVb9SEKu8s"
      }
    },
    {
      "cell_type": "code",
      "source": [
        "!pip install -qU langchain langchain_core langchain_openai langchain_community\n",
        "!pip install -qU python-telegram-bot"
      ],
      "metadata": {
        "id": "mLNLH0RWD3I0"
      },
      "execution_count": 16,
      "outputs": []
    },
    {
      "cell_type": "code",
      "source": [
        "#@title Definindo a chave da API da OpenAI, Telegram Token, Channel ID e os modelos que serão utilizados\n",
        "\n",
        "import getpass\n",
        "import os\n",
        "\n",
        "# MODEL_GPT = \"gpt-3.5-turbo\"\n",
        "# MODEL_IMAGE = \"dall-e-2\"\n",
        "\n",
        "MODEL_GPT = \"gpt-4o\"\n",
        "MODEL_IMAGE = \"dall-e-3\"\n",
        "\n",
        "print(\"Será usado o modelo GPT: {}\".format(MODEL_GPT))\n",
        "print(\"Será usado o modelo de geração de imagem: {}\".format(MODEL_IMAGE))\n",
        "\n",
        "os.environ[\"OPENAI_API_KEY\"] = getpass.getpass('API Key OpenAI: ')\n",
        "os.environ[\"TELEGRAM_BOT\"] = getpass.getpass('Telegram Bot Token: ')\n",
        "os.environ[\"TELEGRAM_CHANNEL\"] = getpass.getpass('Telegram Channel ID: ')"
      ],
      "metadata": {
        "colab": {
          "base_uri": "https://localhost:8080/"
        },
        "id": "zSy63fEaC506",
        "outputId": "8bd90f2c-d0ed-4854-fd63-00d44bd63200"
      },
      "execution_count": 17,
      "outputs": [
        {
          "name": "stdout",
          "output_type": "stream",
          "text": [
            "Será usado o modelo GPT: gpt-4o\n",
            "Será usado o modelo de geração de imagem: dall-e-3\n",
            "API Key OpenAI: ··········\n",
            "Telegram Bot Token: ··········\n",
            "Telegram Channel ID: ··········\n"
          ]
        }
      ]
    },
    {
      "cell_type": "markdown",
      "source": [
        "Em sequência é criado as funções necessárias para buscar uma receita aleatória e formata-la em formato JSON e em formato de texto para tradução."
      ],
      "metadata": {
        "id": "u6mqrot5LPzv"
      }
    },
    {
      "cell_type": "code",
      "source": [
        "#@title Definindo funções para buscar e formatar receitas\n",
        "\n",
        "import requests\n",
        "import json\n",
        "\n",
        "# Função para obter uma receita aleatória\n",
        "def get_random_recipe(debug = False):\n",
        "    url = \"https://www.themealdb.com/api/json/v1/1/random.php\"\n",
        "    response = requests.get(url)\n",
        "    if response.status_code == 200:\n",
        "        data = response.json()\n",
        "        if data and \"meals\" in data and data[\"meals\"]:\n",
        "            return format_response(data[\"meals\"][0], debug)\n",
        "    return None, None\n",
        "\n",
        "# Função para processar e exibir os dados da receita\n",
        "def format_response(recipe, debug):\n",
        "    if not recipe:\n",
        "        print(\"Não foi possível obter a receita.\")\n",
        "        return None, None\n",
        "\n",
        "    # Separar as informações da receita\n",
        "    recipe_id = recipe[\"idMeal\"]\n",
        "    recipe_name = recipe[\"strMeal\"]\n",
        "    category = recipe[\"strCategory\"]\n",
        "    area = recipe[\"strArea\"]\n",
        "    instructions = recipe[\"strInstructions\"]\n",
        "    ingredients = []\n",
        "\n",
        "    # Iterar sobre os ingredientes e suas medidas\n",
        "    for i in range(1, 21):\n",
        "        ingredient = recipe.get(f\"strIngredient{i}\")\n",
        "        measure = recipe.get(f\"strMeasure{i}\")\n",
        "        if ingredient and ingredient.strip():\n",
        "            ingredients.append(f\"{measure} {ingredient}\")\n",
        "\n",
        "    # Montar a URL da receita\n",
        "    recipe_url = f\"https://www.themealdb.com/api/json/v1/1/lookup.php?i={recipe_id}\"\n",
        "\n",
        "    response = {\n",
        "        \"id\": recipe_id,\n",
        "        \"name\": recipe_name,\n",
        "        \"category\": category,\n",
        "        \"area\": area,\n",
        "        \"ingredients\": ingredients,\n",
        "        \"instructions\": instructions,\n",
        "        \"url\": recipe_url\n",
        "    }\n",
        "\n",
        "    response_text = \"\"\n",
        "    response_text += f\"Nome da Receita: {recipe_name}\"\n",
        "    response_text += f\"\\nCategoria: {category}\"\n",
        "    response_text += f\"\\nÁrea: {area}\"\n",
        "    response_text += \"\\n\\nIngredientes:\"\n",
        "    for ingredient in ingredients:\n",
        "        response_text += f\"\\n - {ingredient}\"\n",
        "    response_text += \"\\n\\nInstruções: \"\n",
        "    response_text += instructions\n",
        "    # Exibir as informações da receita\n",
        "    if debug:\n",
        "      print(response_text)\n",
        "\n",
        "    return response, response_text\n",
        "\n",
        "print(\"Funções de busca e formatação de receitas para The Meal DB definidas\")"
      ],
      "metadata": {
        "id": "RyUailD5vi9E",
        "colab": {
          "base_uri": "https://localhost:8080/"
        },
        "outputId": "95c97ef2-bae9-434b-b2f8-618251ce51dd"
      },
      "execution_count": 18,
      "outputs": [
        {
          "output_type": "stream",
          "name": "stdout",
          "text": [
            "Funções de busca e formatação de receitas para The Meal DB definidas\n"
          ]
        }
      ]
    },
    {
      "cell_type": "markdown",
      "source": [
        "É necessário criar o modelo que Langchain que será responsável para realizar as tarefas de tradução e geração de imagens para as receitas."
      ],
      "metadata": {
        "id": "7smFNuSQUMJu"
      }
    },
    {
      "cell_type": "code",
      "source": [
        "#@title Modelos para tradução e geração de imagem\n",
        "\n",
        "from langchain_openai import ChatOpenAI, OpenAI\n",
        "from langchain_core.output_parsers import StrOutputParser\n",
        "from langchain_core.prompts import ChatPromptTemplate, PromptTemplate\n",
        "from langchain.chains import LLMChain\n",
        "from langchain_community.utilities.dalle_image_generator import DallEAPIWrapper\n",
        "\n",
        "model = ChatOpenAI(model = MODEL_GPT)\n",
        "\n",
        "# Criando chain para tradução\n",
        "parser = StrOutputParser()\n",
        "\n",
        "template_translation = \"Translate the following recipe to {language}\"\n",
        "template_translation_prompt = ChatPromptTemplate.from_messages(\n",
        "    [(\"system\", template_translation), (\"user\", \"{text}\")]\n",
        ")\n",
        "\n",
        "chain_translation = template_translation_prompt | model | parser\n",
        "print(\"Definido Chain de tradução\")\n",
        "\n",
        "# Criando chain para geração de informações nutricionais\n",
        "template_nutritional = \"Based in the following recipe, give me only the nutritional information of this recipe. Answer in {language}\"\n",
        "template_nutritional_prompt = ChatPromptTemplate.from_messages(\n",
        "    [(\"system\", template_nutritional), (\"user\", \"{text}\")]\n",
        ")\n",
        "\n",
        "chain_nutritional = template_nutritional_prompt | model | parser\n",
        "print(\"Definido Chain de informações nutricionais\")\n",
        "\n",
        "# Criando modelo de geração de imagem\n",
        "image_gen = DallEAPIWrapper(\n",
        "      model = MODEL_IMAGE,\n",
        "      n = 1,\n",
        "      quality = \"standard\",\n",
        "      size = \"1024x1024\"\n",
        ")\n",
        "\n",
        "llm = OpenAI(temperature=0.9)\n",
        "\n",
        "# Criando chain para geração de imagem para capa da receita\n",
        "prompt = PromptTemplate(\n",
        "    input_variables=[\"image_desc\"],\n",
        "    template=\"Generate a image to use as a thumbnail for the recipe {recipe_name}\",\n",
        ")\n",
        "chain_thumbnail = LLMChain(llm=llm, prompt=prompt)\n",
        "\n",
        "print(\"Definido modelo de geração de imagem para capa da receita\")\n",
        "\n",
        "# Criando chain para geração de imagem dos ingredientes da receita\n",
        "prompt2 = PromptTemplate(\n",
        "    input_variables=[\"image_desc\"],\n",
        "    template=\"Generate a image showing the following ingredients: {ingredients}\",\n",
        ")\n",
        "chain_ingredients = LLMChain(llm=llm, prompt=prompt2)\n",
        "\n",
        "print(\"Definido modelo de geração de imagem para ingredientes da receita\")\n",
        "\n",
        "# Criando chain para geração de imagem das intruções da receita\n",
        "prompt3 = PromptTemplate(\n",
        "    input_variables=[\"image_desc\"],\n",
        "    template=\"Generate a image with a person doing the following recipe instructions: {instructions}\",\n",
        ")\n",
        "chain_instructions = LLMChain(llm=llm, prompt=prompt3)\n",
        "\n",
        "print(\"Definido modelo de geração de imagem para instruções da receita\")\n"
      ],
      "metadata": {
        "id": "Zb4oPfAhzNb0",
        "colab": {
          "base_uri": "https://localhost:8080/"
        },
        "outputId": "bc4bb6f7-ebe5-49ef-d80c-cfa792e7a8a5"
      },
      "execution_count": 19,
      "outputs": [
        {
          "output_type": "stream",
          "name": "stdout",
          "text": [
            "Definido Chain de tradução\n",
            "Definido Chain de informações nutricionais\n",
            "Definido modelo de geração de imagem para capa da receita\n",
            "Definido modelo de geração de imagem para ingredientes da receita\n",
            "Definido modelo de geração de imagem para instruções da receita\n"
          ]
        }
      ]
    },
    {
      "cell_type": "code",
      "source": [
        "#@title Bot para enviar mensagens e imagens para canal do telegram\n",
        "import telegram\n",
        "from telegram import InputMediaPhoto\n",
        "\n",
        "# Telegram bot token\n",
        "bot_token = os.environ[\"TELEGRAM_BOT\"]\n",
        "\n",
        "channel_id = os.environ[\"TELEGRAM_CHANNEL\"]\n",
        "\n",
        "bot = telegram.Bot(token = bot_token)\n",
        "bot_name = await bot.getMyName()\n",
        "print(\"Conectado ao bot: {}\".format(bot_name.name))"
      ],
      "metadata": {
        "id": "6l9QB1Fk3LlE",
        "colab": {
          "base_uri": "https://localhost:8080/"
        },
        "outputId": "1915e83d-af44-4a25-c077-0580c7e9c06b"
      },
      "execution_count": 20,
      "outputs": [
        {
          "output_type": "stream",
          "name": "stdout",
          "text": [
            "Conectado ao bot: Receitas Hummm\n"
          ]
        }
      ]
    },
    {
      "cell_type": "markdown",
      "source": [
        "Por fim, a última etapa é executar toda a pipeline:\n",
        "- Buscar uma receita aleatória\n",
        "- Traduzir toda as suas instruções\n",
        "- Gerar informações nutricionais da receita\n",
        "- Gerar uma imagem para a capa\n",
        "- Gerar uma imagem para os ingredientes\n",
        "- Gerar uma imagem para as instruções\n",
        "- Enviar todos os dados para o [telegram](https://t.me/+hMmCAxXSZigyYzdh)"
      ],
      "metadata": {
        "id": "vjlqXc5ONbXg"
      }
    },
    {
      "cell_type": "code",
      "source": [
        "# Obter uma receita aleatória\n",
        "recipe, recipe_text = get_random_recipe()\n",
        "print(\"Buscando receita aleatória...\")\n",
        "if recipe is None:\n",
        "  print(\"Erro na busca de uma receita aleatória\")\n",
        "  exit()\n",
        "print(\"Receita obtida: {}\".format(recipe[\"name\"]))"
      ],
      "metadata": {
        "colab": {
          "base_uri": "https://localhost:8080/"
        },
        "id": "iKcI-dUT8fMw",
        "outputId": "ddeb919d-eea7-4b73-b609-e6daf8ffd2b9"
      },
      "execution_count": 21,
      "outputs": [
        {
          "output_type": "stream",
          "name": "stdout",
          "text": [
            "Buscando receita aleatória...\n",
            "Receita obtida: Canadian Butter Tarts\n"
          ]
        }
      ]
    },
    {
      "cell_type": "code",
      "source": [
        "print(\"\\nTraduzindo receita...\")\n",
        "recipe_translation = chain_translation.invoke({\n",
        "    \"language\": \"portuguese\",\n",
        "    \"text\": recipe_text,\n",
        "})\n",
        "\n",
        "print(\"\\nGerando informações nutricionais da receita...\")\n",
        "recipe_nutritional = chain_nutritional.invoke({\n",
        "    \"language\": \"portuguese\",\n",
        "    \"text\": recipe_text,\n",
        "})\n",
        "\n",
        "print(\"\\nGerando imagem de capa...\")\n",
        "image_thumbnail_url = image_gen.run(chain_thumbnail.run({\n",
        "    \"recipe_name\": recipe[\"name\"],\n",
        "}))\n",
        "\n",
        "print(\"\\nGerando imagem dos ingredientes...\")\n",
        "# O limite do prompt são 1000 caracteres no total\n",
        "# O prompt inicial tem cerca de 60 caracteres\n",
        "ingredients = \"\"\n",
        "for ing in recipe[\"ingredients\"]:\n",
        "  ing = \"\\n{}\".format(ing)\n",
        "  if len(ingredients + ing) > 1000 - 60:\n",
        "    break\n",
        "  ingredients += ing\n",
        "\n",
        "image_ingredients_url = image_gen.run(chain_ingredients.run({\n",
        "    \"ingredients\": ingredients,\n",
        "}))\n",
        "\n",
        "# O limite do prompt são 1000 caracteres no total\n",
        "# O prompt inicial tem cerca de 80 caracteres\n",
        "instructions = recipe[\"instructions\"][:(1000-80)]\n",
        "print(\"\\nGerando imagem das instruções...\")\n",
        "image_instructions_url = image_gen.run(chain_instructions.run({\n",
        "    \"instructions\": instructions,\n",
        "}))"
      ],
      "metadata": {
        "colab": {
          "base_uri": "https://localhost:8080/"
        },
        "id": "mc8ILf5o8jGp",
        "outputId": "1cc1cadc-e18c-467e-ef77-287accf27296"
      },
      "execution_count": 22,
      "outputs": [
        {
          "output_type": "stream",
          "name": "stdout",
          "text": [
            "\n",
            "Traduzindo receita...\n",
            "\n",
            "Gerando informações nutricionais da receita...\n",
            "\n",
            "Gerando imagem de capa...\n",
            "\n",
            "Gerando imagem dos ingredientes...\n",
            "\n",
            "Gerando imagem das instruções...\n"
          ]
        }
      ]
    },
    {
      "cell_type": "code",
      "source": [
        "print(\"\\nEnviando para o telegram...\")\n",
        "text = \"Receita do dia: {}\".format(recipe_translation.splitlines()[0].split(':')[1])\n",
        "\n",
        "images = [image_thumbnail_url, image_ingredients_url, image_instructions_url]\n",
        "local_images = False\n",
        "\n",
        "media_group = []\n",
        "for idx, image in enumerate(images):\n",
        "    if not local_images:\n",
        "        media_group.append(InputMediaPhoto(\n",
        "            image,\n",
        "           caption = text if idx == 0 else '')\n",
        "        )\n",
        "        continue\n",
        "    media_group.append(InputMediaPhoto(\n",
        "        open(image, 'rb'),\n",
        "        caption = text if idx == 0 else '')\n",
        "    )\n",
        "\n",
        "print(\"\\nEnviando imagens para o telegram...\")\n",
        "await bot.send_media_group(chat_id = channel_id, media = media_group)\n",
        "print(\"\\nEnviando instruções da receita para o telegram...\")\n",
        "_ = await bot.send_message(chat_id = channel_id, text = recipe_translation)\n",
        "print(\"\\nEnviando informações nutricionais para o telegram...\")\n",
        "_ = await bot.send_message(chat_id = channel_id, text = \"Informações Nutricionais\\n\\n\" + recipe_nutritional)\n",
        "print(\"\\nTodas as informações foram enviadas\")"
      ],
      "metadata": {
        "colab": {
          "base_uri": "https://localhost:8080/"
        },
        "id": "XmPOsO2F2SgE",
        "outputId": "334ba042-5253-4646-f461-f6d2d62366e2"
      },
      "execution_count": 23,
      "outputs": [
        {
          "output_type": "stream",
          "name": "stdout",
          "text": [
            "\n",
            "Enviando para o telegram...\n",
            "\n",
            "Enviando imagens para o telegram...\n",
            "\n",
            "Enviando instruções da receita para o telegram...\n",
            "\n",
            "Enviando informações nutricionais para o telegram...\n",
            "\n",
            "Todas as informações foram enviadas\n"
          ]
        }
      ]
    }
  ]
}